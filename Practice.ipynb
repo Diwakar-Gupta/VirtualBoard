{
 "cells": [
  {
   "cell_type": "code",
   "execution_count": 1,
   "id": "3d963c22",
   "metadata": {},
   "outputs": [
    {
     "name": "stdout",
     "output_type": "stream",
     "text": [
      "Requirement already satisfied: opencv-python in /Users/diwakargupta/miniconda3/envs/cvpipe/lib/python3.8/site-packages (4.6.0.66)\r\n",
      "Requirement already satisfied: numpy>=1.21.2 in /Users/diwakargupta/miniconda3/envs/cvpipe/lib/python3.8/site-packages (from opencv-python) (1.23.5)\r\n"
     ]
    }
   ],
   "source": [
    "!pip install opencv-python"
   ]
  },
  {
   "cell_type": "code",
   "execution_count": 1,
   "id": "2384ea22",
   "metadata": {},
   "outputs": [],
   "source": [
    "import cv2\n",
    "import numpy as np"
   ]
  },
  {
   "cell_type": "markdown",
   "id": "928d5689",
   "metadata": {},
   "source": [
    "https://docs.opencv.org/3.4/d8/dfe/classcv_1_1VideoCapture.html#a9d2ca36789e7fcfe7a7be3b328038585"
   ]
  },
  {
   "cell_type": "code",
   "execution_count": 9,
   "id": "0b2fc07a",
   "metadata": {},
   "outputs": [],
   "source": [
    "cap = cv2.VideoCapture(0)\n",
    "\n",
    "success, frame = cap.read()\n",
    "\n",
    "if success:\n",
    "    cv2.imshow('Live', frame)\n",
    "\n",
    "cv2.waitKey(0)\n",
    "cap.release()"
   ]
  },
  {
   "cell_type": "code",
   "execution_count": 19,
   "id": "397c76f5",
   "metadata": {},
   "outputs": [
    {
     "data": {
      "text/plain": [
       "-1"
      ]
     },
     "execution_count": 19,
     "metadata": {},
     "output_type": "execute_result"
    }
   ],
   "source": [
    "cap = cv2.VideoCapture(0)\n",
    "\n",
    "success, frame = cap.read()\n",
    "\n",
    "if success:\n",
    "    cv2.imshow('Live', frame)\n",
    "\n",
    "cv2.waitKey(0)\n",
    "cap.release()\n",
    "\n",
    "cv2.destroyAllWindows()\n",
    "cv2.waitKey(1)"
   ]
  },
  {
   "cell_type": "code",
   "execution_count": 16,
   "id": "ffc355b5",
   "metadata": {},
   "outputs": [],
   "source": [
    "cap = cv2.VideoCapture(0)\n",
    "\n",
    "while cap.isOpened():\n",
    "    success, frame = cap.read()\n",
    "    cv2.imshow('Live', frame)\n",
    "    \n",
    "    if cv2.waitKey(10) == 27:\n",
    "        break\n",
    "  \n",
    "cap.release()"
   ]
  },
  {
   "cell_type": "code",
   "execution_count": 23,
   "id": "7aa82b4a",
   "metadata": {},
   "outputs": [
    {
     "data": {
      "text/plain": [
       "-1"
      ]
     },
     "execution_count": 23,
     "metadata": {},
     "output_type": "execute_result"
    }
   ],
   "source": [
    "cap = cv2.VideoCapture(0)\n",
    "\n",
    "success = True\n",
    "while success:\n",
    "    success, frame = cap.read()\n",
    "    frame = cv2.flip(frame, 1) # 0 vertically x-axis, 1 horizontally y-axis\n",
    "    \n",
    "    cv2.imshow('Live', frame)\n",
    "    \n",
    "    if cv2.waitKey(10) == 27:\n",
    "        break\n",
    "  \n",
    "cap.release()\n",
    "cv2.destroyAllWindows()\n",
    "cv2.waitKey(1)"
   ]
  },
  {
   "cell_type": "markdown",
   "id": "3f4f8458",
   "metadata": {},
   "source": [
    "#### Add Toolbar"
   ]
  },
  {
   "cell_type": "code",
   "execution_count": 2,
   "id": "bdb7f54e",
   "metadata": {},
   "outputs": [
    {
     "name": "stdout",
     "output_type": "stream",
     "text": [
      "(50, 250, 3)\n"
     ]
    }
   ],
   "source": [
    "tools = cv2.imread(\"tool.png\")\n",
    "tools = tools.astype('uint8')\n",
    "print(tools.shape)"
   ]
  },
  {
   "cell_type": "code",
   "execution_count": 3,
   "id": "bba4c791",
   "metadata": {},
   "outputs": [],
   "source": [
    "frame_shape = (720, 1280, 3)\n",
    "midCol = frame_shape[1]//2\n",
    "max_x = 50\n",
    "min_y = midCol-125\n",
    "max_y = midCol+125"
   ]
  },
  {
   "cell_type": "markdown",
   "id": "e0e026b4",
   "metadata": {},
   "source": [
    "https://docs.opencv.org/3.4/d2/de8/group__core__array.html#gafafb2513349db3bcff51f54ee5592a19"
   ]
  },
  {
   "cell_type": "code",
   "execution_count": 40,
   "id": "607a8922",
   "metadata": {},
   "outputs": [
    {
     "data": {
      "text/plain": [
       "-1"
      ]
     },
     "execution_count": 40,
     "metadata": {},
     "output_type": "execute_result"
    }
   ],
   "source": [
    "cap = cv2.VideoCapture(0)\n",
    "\n",
    "success = True\n",
    "while success:\n",
    "    success, frame = cap.read()\n",
    "\n",
    "    frame = cv2.flip(frame, 1) \n",
    "    \n",
    "#     frame[0:max_x, min_y:max_y] = tools\n",
    "    \n",
    "    frame[0:max_x, min_y:max_y] = cv2.addWeighted(tools, 0.7, frame[0:max_x, min_y:max_y], 0.3, 0)\n",
    "    \n",
    "    cv2.imshow('Live', frame)\n",
    "    \n",
    "    if cv2.waitKey(10) == 27:\n",
    "        break\n",
    "  \n",
    "cap.release()\n",
    "cv2.destroyAllWindows()\n",
    "cv2.waitKey(1)"
   ]
  },
  {
   "cell_type": "markdown",
   "id": "7632d828",
   "metadata": {},
   "source": [
    "## Mediapipe"
   ]
  },
  {
   "cell_type": "code",
   "execution_count": 41,
   "id": "410b5fef",
   "metadata": {},
   "outputs": [
    {
     "name": "stdout",
     "output_type": "stream",
     "text": [
      "Requirement already satisfied: mediapipe-silicon in /Users/diwakargupta/miniconda3/envs/cvpipe/lib/python3.8/site-packages (0.8.11)\n",
      "Requirement already satisfied: attrs>=19.1.0 in /Users/diwakargupta/miniconda3/envs/cvpipe/lib/python3.8/site-packages (from mediapipe-silicon) (22.1.0)\n",
      "Requirement already satisfied: opencv-contrib-python in /Users/diwakargupta/miniconda3/envs/cvpipe/lib/python3.8/site-packages (from mediapipe-silicon) (4.6.0.66)\n",
      "Requirement already satisfied: numpy in /Users/diwakargupta/miniconda3/envs/cvpipe/lib/python3.8/site-packages (from mediapipe-silicon) (1.23.5)\n",
      "Requirement already satisfied: protobuf<4,>=3.11 in /Users/diwakargupta/miniconda3/envs/cvpipe/lib/python3.8/site-packages (from mediapipe-silicon) (3.20.3)\n",
      "Requirement already satisfied: absl-py in /Users/diwakargupta/miniconda3/envs/cvpipe/lib/python3.8/site-packages (from mediapipe-silicon) (1.3.0)\n",
      "Requirement already satisfied: matplotlib in /Users/diwakargupta/miniconda3/envs/cvpipe/lib/python3.8/site-packages (from mediapipe-silicon) (3.6.2)\n",
      "Requirement already satisfied: contourpy>=1.0.1 in /Users/diwakargupta/miniconda3/envs/cvpipe/lib/python3.8/site-packages (from matplotlib->mediapipe-silicon) (1.0.6)\n",
      "Requirement already satisfied: python-dateutil>=2.7 in /Users/diwakargupta/miniconda3/envs/cvpipe/lib/python3.8/site-packages (from matplotlib->mediapipe-silicon) (2.8.2)\n",
      "Requirement already satisfied: packaging>=20.0 in /Users/diwakargupta/miniconda3/envs/cvpipe/lib/python3.8/site-packages (from matplotlib->mediapipe-silicon) (21.3)\n",
      "Requirement already satisfied: cycler>=0.10 in /Users/diwakargupta/miniconda3/envs/cvpipe/lib/python3.8/site-packages (from matplotlib->mediapipe-silicon) (0.11.0)\n",
      "Requirement already satisfied: kiwisolver>=1.0.1 in /Users/diwakargupta/miniconda3/envs/cvpipe/lib/python3.8/site-packages (from matplotlib->mediapipe-silicon) (1.4.4)\n",
      "Requirement already satisfied: pyparsing>=2.2.1 in /Users/diwakargupta/miniconda3/envs/cvpipe/lib/python3.8/site-packages (from matplotlib->mediapipe-silicon) (3.0.9)\n",
      "Requirement already satisfied: fonttools>=4.22.0 in /Users/diwakargupta/miniconda3/envs/cvpipe/lib/python3.8/site-packages (from matplotlib->mediapipe-silicon) (4.38.0)\n",
      "Requirement already satisfied: pillow>=6.2.0 in /Users/diwakargupta/miniconda3/envs/cvpipe/lib/python3.8/site-packages (from matplotlib->mediapipe-silicon) (9.3.0)\n",
      "Requirement already satisfied: six>=1.5 in /Users/diwakargupta/miniconda3/envs/cvpipe/lib/python3.8/site-packages (from python-dateutil>=2.7->matplotlib->mediapipe-silicon) (1.16.0)\n"
     ]
    }
   ],
   "source": [
    "!pip install mediapipe-silicon"
   ]
  },
  {
   "cell_type": "code",
   "execution_count": 4,
   "id": "a87745cd",
   "metadata": {},
   "outputs": [
    {
     "name": "stderr",
     "output_type": "stream",
     "text": [
      "objc[12180]: Class CaptureDelegate is implemented in both /Users/diwakargupta/miniconda3/envs/cvpipe/lib/python3.8/site-packages/cv2/cv2.abi3.so (0x14d6ce480) and /Users/diwakargupta/miniconda3/envs/cvpipe/lib/python3.8/site-packages/mediapipe/.dylibs/libopencv_videoio.3.4.16.dylib (0x137878860). One of the two will be used. Which one is undefined.\n",
      "objc[12180]: Class CVWindow is implemented in both /Users/diwakargupta/miniconda3/envs/cvpipe/lib/python3.8/site-packages/cv2/cv2.abi3.so (0x14d6ce4d0) and /Users/diwakargupta/miniconda3/envs/cvpipe/lib/python3.8/site-packages/mediapipe/.dylibs/libopencv_highgui.3.4.16.dylib (0x1214c4a68). One of the two will be used. Which one is undefined.\n",
      "objc[12180]: Class CVView is implemented in both /Users/diwakargupta/miniconda3/envs/cvpipe/lib/python3.8/site-packages/cv2/cv2.abi3.so (0x14d6ce4f8) and /Users/diwakargupta/miniconda3/envs/cvpipe/lib/python3.8/site-packages/mediapipe/.dylibs/libopencv_highgui.3.4.16.dylib (0x1214c4a90). One of the two will be used. Which one is undefined.\n",
      "objc[12180]: Class CVSlider is implemented in both /Users/diwakargupta/miniconda3/envs/cvpipe/lib/python3.8/site-packages/cv2/cv2.abi3.so (0x14d6ce520) and /Users/diwakargupta/miniconda3/envs/cvpipe/lib/python3.8/site-packages/mediapipe/.dylibs/libopencv_highgui.3.4.16.dylib (0x1214c4ab8). One of the two will be used. Which one is undefined.\n"
     ]
    }
   ],
   "source": [
    "import mediapipe as mp"
   ]
  },
  {
   "cell_type": "markdown",
   "id": "328685ea",
   "metadata": {},
   "source": [
    "https://google.github.io/mediapipe/solutions/hands#python-solution-api"
   ]
  },
  {
   "cell_type": "code",
   "execution_count": 8,
   "id": "520ee15f",
   "metadata": {},
   "outputs": [
    {
     "name": "stderr",
     "output_type": "stream",
     "text": [
      "INFO: Created TensorFlow Lite XNNPACK delegate for CPU.\n"
     ]
    }
   ],
   "source": [
    "hands = mp.solutions.hands\n",
    "hand_landmark = hands.Hands(min_detection_confidence=0.6, min_tracking_confidence=0.6, max_num_hands=1)\n",
    "draw = mp.solutions.drawing_utils"
   ]
  },
  {
   "cell_type": "code",
   "execution_count": 47,
   "id": "ce147f93",
   "metadata": {},
   "outputs": [
    {
     "data": {
      "text/plain": [
       "-1"
      ]
     },
     "execution_count": 47,
     "metadata": {},
     "output_type": "execute_result"
    }
   ],
   "source": [
    "cap = cv2.VideoCapture(0)\n",
    "\n",
    "success = True\n",
    "while success:\n",
    "    success, frame = cap.read()\n",
    "    frame = cv2.flip(frame, 1) # 0 vertically x-axis, 1 horizontally y-axis\n",
    "    \n",
    "    rgb = cv2.cvtColor(frame, cv2.COLOR_BGR2RGB)\n",
    "    op = hand_landmark.process(rgb)\n",
    "    \n",
    "    if op.multi_hand_landmarks:\n",
    "        for i in op.multi_hand_landmarks:\n",
    "            draw.draw_landmarks(frame, i, hands.HAND_CONNECTIONS)\n",
    "    \n",
    "    cv2.imshow('Live', frame)\n",
    "    \n",
    "    if cv2.waitKey(10) == 27:\n",
    "        break\n",
    "  \n",
    "cap.release()\n",
    "cv2.destroyAllWindows()\n",
    "cv2.waitKey(1)"
   ]
  },
  {
   "cell_type": "markdown",
   "id": "14d1b966",
   "metadata": {},
   "source": [
    "### Face\n",
    "https://google.github.io/mediapipe/solutions/face_mesh.html"
   ]
  },
  {
   "cell_type": "code",
   "execution_count": 55,
   "id": "c8cd8f71",
   "metadata": {
    "scrolled": true
   },
   "outputs": [
    {
     "data": {
      "text/plain": [
       "-1"
      ]
     },
     "execution_count": 55,
     "metadata": {},
     "output_type": "execute_result"
    }
   ],
   "source": [
    "mp_face_mesh = mp.solutions.face_mesh\n",
    "face_mesh = mp_face_mesh.FaceMesh(\n",
    "    max_num_faces=1,\n",
    "    refine_landmarks=True,\n",
    "    min_detection_confidence=0.5)\n",
    "\n",
    "\n",
    "cap = cv2.VideoCapture(0)\n",
    "\n",
    "success = True\n",
    "while cap.isOpened():\n",
    "    success, frame = cap.read()\n",
    "    frame = cv2.flip(frame, 1) # 0 vertically x-axis, 1 horizontally y-axis\n",
    "    \n",
    "    rgb = cv2.cvtColor(frame, cv2.COLOR_BGR2RGB)\n",
    "    op = hand_landmark.process(rgb)\n",
    "    results = face_mesh.process(rgb)\n",
    "    \n",
    "    if op.multi_hand_landmarks:\n",
    "        for i in op.multi_hand_landmarks:\n",
    "            draw.draw_landmarks(frame, i, hands.HAND_CONNECTIONS)\n",
    "    \n",
    "    if results.multi_face_landmarks:\n",
    "        for i in results.multi_face_landmarks:\n",
    "            draw.draw_landmarks(frame, i, mp_face_mesh.FACEMESH_IRISES)\n",
    "    \n",
    "    cv2.imshow('Live', frame)\n",
    "    \n",
    "    if cv2.waitKey(10) == 27:\n",
    "        break\n",
    "  \n",
    "cap.release()\n",
    "cv2.destroyAllWindows()\n",
    "cv2.waitKey(1)"
   ]
  },
  {
   "cell_type": "markdown",
   "id": "62f767db",
   "metadata": {},
   "source": [
    "# Board"
   ]
  },
  {
   "cell_type": "code",
   "execution_count": 31,
   "id": "8d7de776",
   "metadata": {},
   "outputs": [
    {
     "data": {
      "text/plain": [
       "-1"
      ]
     },
     "execution_count": 31,
     "metadata": {},
     "output_type": "execute_result"
    }
   ],
   "source": [
    "cap = cv2.VideoCapture(0)\n",
    "\n",
    "mask = np.ones(frame_shape[0:2])*255\n",
    "mask = mask.astype('uint8')\n",
    "prevxy = None\n",
    "\n",
    "while cap.isOpened():\n",
    "    success, frame = cap.read()\n",
    "    if not success:\n",
    "        continue\n",
    "        \n",
    "    frame = cv2.flip(frame, 1) # 0 vertically x-axis, 1 horizontally y-axis\n",
    "    \n",
    "    rgb = cv2.cvtColor(frame, cv2.COLOR_BGR2RGB)\n",
    "    op = hand_landmark.process(rgb)\n",
    "    \n",
    "    if op.multi_hand_landmarks:\n",
    "        \n",
    "        for all_landmarks in op.multi_hand_landmarks:\n",
    "            draw.draw_landmarks(frame, all_landmarks, hands.HAND_CONNECTIONS)\n",
    "            x, y = all_landmarks.landmark[8].x, all_landmarks.landmark[8].y # index finger\n",
    "            x, y = int(x*frame_shape[1]), int(y*frame_shape[0])\n",
    "            \n",
    "            click_loc = all_landmarks.landmark[12].x, all_landmarks.landmark[12].y\n",
    "            click_loc = int(click_loc[0]*frame_shape[1]), int(click_loc[1]*frame_shape[0])\n",
    "            \n",
    "            set_israised((x, y), click_loc)\n",
    "            \n",
    "            if  is_clicked and curr_tool == 'draw' and prevxy!=None:\n",
    "                cv2.line(mask, prevxy, (x, y), 0, 4)\n",
    "            prevxy = (x, y)\n",
    "    else:\n",
    "        prevxy = None\n",
    "    \n",
    "    frame = cv2.bitwise_and(frame, frame, mask=mask)\n",
    "    cv2.imshow('Live', frame)\n",
    "    \n",
    "    if cv2.waitKey(10)==27:\n",
    "        break\n",
    "  \n",
    "cap.release()\n",
    "cv2.destroyAllWindows()\n",
    "cv2.waitKey(1)"
   ]
  },
  {
   "cell_type": "markdown",
   "id": "920662ea",
   "metadata": {},
   "source": [
    "### eraser circle line"
   ]
  },
  {
   "cell_type": "code",
   "execution_count": 13,
   "id": "c656dad9",
   "metadata": {},
   "outputs": [],
   "source": [
    "is_clicked=False\n",
    "def set_israised(loc1, loc2):\n",
    "    global is_clicked\n",
    "    dis = (loc1[0]-loc2[0])**2 + (loc1[1]-loc2[1])**2\n",
    "    dis = np.sqrt(dis)\n",
    "    if dis<60:\n",
    "        is_clicked=True\n",
    "    else:\n",
    "        is_clicked=False\n",
    "\n",
    "curr_tool = 'draw'\n",
    "def set_Tool(x):\n",
    "    global curr_tool\n",
    "    pre=curr_tool\n",
    "    \n",
    "    if x < min_y:\n",
    "        return\n",
    "    elif x < 50 + min_y:\n",
    "        curr_tool = \"line\"\n",
    "    elif x<100 + min_y:\n",
    "        curr_tool = \"rectangle\"\n",
    "    elif x < 150 + min_y:\n",
    "        curr_tool =\"draw\"\n",
    "    elif x<200 + min_y:\n",
    "        curr_tool = \"circle\"\n",
    "    else:\n",
    "        curr_tool = \"erase\"\n",
    "    \n",
    "    if pre != curr_tool:\n",
    "        print('Tool Selected', curr_tool)"
   ]
  },
  {
   "cell_type": "code",
   "execution_count": 57,
   "id": "1c6cf0f4",
   "metadata": {},
   "outputs": [
    {
     "name": "stdout",
     "output_type": "stream",
     "text": [
      "Tool Selected draw\n",
      "Tool Selected rectangle\n",
      "Tool Selected circle\n",
      "Tool Selected erase\n",
      "Tool Selected draw\n"
     ]
    },
    {
     "data": {
      "text/plain": [
       "-1"
      ]
     },
     "execution_count": 57,
     "metadata": {},
     "output_type": "execute_result"
    }
   ],
   "source": [
    "cap = cv2.VideoCapture(0)\n",
    "\n",
    "mask = np.ones(frame_shape[0:2])*255\n",
    "mask = mask.astype('uint8')\n",
    "prevxy = None\n",
    "start_point = None\n",
    "\n",
    "while cap.isOpened():\n",
    "    success, frame = cap.read()\n",
    "    if not success:\n",
    "        continue\n",
    "        \n",
    "    frame = cv2.flip(frame, 1) # 0 vertically x-axis, 1 horizontally y-axis\n",
    "    \n",
    "    rgb = cv2.cvtColor(frame, cv2.COLOR_BGR2RGB)\n",
    "    op = hand_landmark.process(rgb)\n",
    "    frame[:, :, :] = 255\n",
    "    \n",
    "    if op.multi_hand_landmarks:\n",
    "        \n",
    "        for all_landmarks in op.multi_hand_landmarks:\n",
    "            draw.draw_landmarks(frame, all_landmarks, hands.HAND_CONNECTIONS)\n",
    "            x, y = all_landmarks.landmark[8].x, all_landmarks.landmark[8].y # index finger\n",
    "            x, y = int(x*frame_shape[1]), int(y*frame_shape[0])\n",
    "            \n",
    "            click_loc = all_landmarks.landmark[12].x, all_landmarks.landmark[12].y\n",
    "            click_loc = int(click_loc[0]*frame_shape[1]), int(click_loc[1]*frame_shape[0])\n",
    "            \n",
    "            set_israised((x, y), click_loc)\n",
    "            if x>min_y and x<max_y and y<max_x:\n",
    "                set_Tool(x)\n",
    "            \n",
    "            if is_clicked and curr_tool == 'draw':\n",
    "                if prevxy!=None:\n",
    "                    cv2.line(mask, prevxy, (x, y), 0, 4)\n",
    "            \n",
    "            elif curr_tool=='rectangle':\n",
    "                if is_clicked and start_point==None:\n",
    "                    start_point = (x, y)\n",
    "                \n",
    "                if is_clicked:\n",
    "                    cv2.rectangle(frame, start_point, (x, y), (50,152,255), 4)\n",
    "                \n",
    "                if is_clicked==False and start_point:\n",
    "                    cv2.rectangle(mask, start_point, (x, y), 0, 4)\n",
    "                    start_point=None\n",
    "            \n",
    "            elif curr_tool == \"erase\":\n",
    "                cv2.circle(frame, (x, y), 30, 0, -1)\n",
    "                if is_clicked:\n",
    "                    cv2.circle(mask, (x, y), 30, 255, -1)\n",
    "            prevxy = (x, y)\n",
    "                \n",
    "    else:\n",
    "        prevxy = None\n",
    "    \n",
    "    frame = cv2.bitwise_and(frame, frame, mask=mask)\n",
    "#     frame = np.where(mask, frame, mask)\n",
    "    frame[0:max_x, min_y:max_y] = cv2.addWeighted(tools, 0.7, frame[0:max_x, min_y:max_y], 0.3, 0)\n",
    "    cv2.imshow('Live', frame)\n",
    "    \n",
    "    if cv2.waitKey(10)==27:\n",
    "        break\n",
    "  \n",
    "cap.release()\n",
    "cv2.destroyAllWindows()\n",
    "cv2.waitKey(1)"
   ]
  },
  {
   "cell_type": "code",
   "execution_count": 27,
   "id": "8e336fd0",
   "metadata": {},
   "outputs": [
    {
     "name": "stdout",
     "output_type": "stream",
     "text": [
      "Tool Selected erase\n",
      "Tool Selected circle\n",
      "Tool Selected rectangle\n",
      "Tool Selected draw\n",
      "Tool Selected line\n",
      "Tool Selected erase\n"
     ]
    },
    {
     "data": {
      "text/plain": [
       "-1"
      ]
     },
     "execution_count": 27,
     "metadata": {},
     "output_type": "execute_result"
    }
   ],
   "source": [
    "cap = cv2.VideoCapture(0)\n",
    "\n",
    "board = np.zeros(frame_shape, dtype='uint8')\n",
    "mask = np.zeros(frame_shape)\n",
    "mask = mask.astype('uint8')\n",
    "prevxy = None\n",
    "start_point = None\n",
    "\n",
    "while cap.isOpened():\n",
    "    success, frame = cap.read()\n",
    "    if not success:\n",
    "        continue\n",
    "        \n",
    "    frame = cv2.flip(frame, 1) # 0 vertically x-axis, 1 horizontally y-axis\n",
    "    \n",
    "    rgb = cv2.cvtColor(frame, cv2.COLOR_BGR2RGB)\n",
    "    op = hand_landmark.process(rgb)\n",
    "    cam_vid = frame.copy()\n",
    "    frame[:, :, :] = 255\n",
    "    \n",
    "    if op.multi_hand_landmarks:\n",
    "        \n",
    "        for all_landmarks in op.multi_hand_landmarks:\n",
    "            draw.draw_landmarks(frame, all_landmarks, hands.HAND_CONNECTIONS)\n",
    "            x, y = all_landmarks.landmark[8].x, all_landmarks.landmark[8].y # index finger\n",
    "            x, y = int(x*frame_shape[1]), int(y*frame_shape[0])\n",
    "            \n",
    "            click_loc = all_landmarks.landmark[12].x, all_landmarks.landmark[12].y\n",
    "            click_loc = int(click_loc[0]*frame_shape[1]), int(click_loc[1]*frame_shape[0])\n",
    "            \n",
    "            set_israised((x, y), click_loc)\n",
    "            if x>min_y and x<max_y and y<max_x:\n",
    "                set_Tool(x)\n",
    "            \n",
    "            if is_clicked and curr_tool == 'draw':\n",
    "                if prevxy!=None:\n",
    "                    cv2.line(mask, prevxy, (x, y), (1,1,1), 4)\n",
    "                    cv2.line(board, prevxy, (x, y), (2, 5, 8), 4)\n",
    "                \n",
    "            elif curr_tool=='rectangle':\n",
    "                if is_clicked and start_point==None:\n",
    "                    start_point = (x, y)\n",
    "                \n",
    "                if is_clicked:\n",
    "                    cv2.rectangle(frame, start_point, (x, y), (50,152,255), 4)\n",
    "                \n",
    "                if is_clicked==False and start_point:\n",
    "                    cv2.rectangle(mask, start_point, (x, y), (1,1,1), 4)\n",
    "                    cv2.rectangle(board, start_point, (x, y), (80, 2, 212), 4)\n",
    "                    start_point=None\n",
    "            \n",
    "            elif curr_tool=='circle':\n",
    "                if is_clicked and start_point==None:\n",
    "                    start_point = (x, y)\n",
    "                \n",
    "                if start_point:\n",
    "                    rad = int(((start_point[0]-x)**2 + (start_point[1]-y)**2)**0.5)\n",
    "                if is_clicked:\n",
    "                    cv2.circle(frame, start_point, rad, (250,12,153), 4)\n",
    "                \n",
    "                if is_clicked==False and start_point:\n",
    "                    cv2.circle(mask, start_point, rad, (1,1,1), 4)\n",
    "                    cv2.circle(board, start_point, rad, (250,12,153), 4)\n",
    "                \n",
    "                    start_point=None\n",
    "            \n",
    "            elif curr_tool == \"erase\":\n",
    "                cv2.circle(frame, (x, y), 30, (0,0,0), -1)\n",
    "                if is_clicked:\n",
    "                    cv2.circle(mask, (x, y), 30, 0, -1)\n",
    "            prevxy = (x, y)\n",
    "            \n",
    "    else:\n",
    "        prevxy = None\n",
    "    \n",
    "    frame = np.where(mask, board, frame)\n",
    "    frame[0:max_x, min_y:max_y] = cv2.addWeighted(tools, 0.7, frame[0:max_x, min_y:max_y], 0.3, 0)\n",
    "    cv2.imshow('Live', frame)\n",
    "    cv2.imshow('Cam', cam_vid)\n",
    "    \n",
    "    if cv2.waitKey(1)==27:\n",
    "        break\n",
    "  \n",
    "cap.release()\n",
    "cv2.destroyAllWindows()\n",
    "cv2.waitKey(1)"
   ]
  },
  {
   "cell_type": "code",
   "execution_count": 26,
   "id": "e1375ffd",
   "metadata": {},
   "outputs": [],
   "source": [
    "cap.release()"
   ]
  }
 ],
 "metadata": {
  "kernelspec": {
   "display_name": "Python 3 (ipykernel)",
   "language": "python",
   "name": "python3"
  },
  "language_info": {
   "codemirror_mode": {
    "name": "ipython",
    "version": 3
   },
   "file_extension": ".py",
   "mimetype": "text/x-python",
   "name": "python",
   "nbconvert_exporter": "python",
   "pygments_lexer": "ipython3",
   "version": "3.8.15"
  }
 },
 "nbformat": 4,
 "nbformat_minor": 5
}
