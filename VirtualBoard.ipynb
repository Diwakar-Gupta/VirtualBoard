{
 "cells": [
  {
   "cell_type": "markdown",
   "id": "40642cfb",
   "metadata": {},
   "source": [
    "# Live feed from camera\n",
    "\n",
    "1. https://opencv.org/ \n",
    "1. Install Opencv\n",
    "1. Live Camera Feed"
   ]
  },
  {
   "cell_type": "code",
   "execution_count": 1,
   "id": "9d774377",
   "metadata": {
    "scrolled": false
   },
   "outputs": [
    {
     "name": "stdout",
     "output_type": "stream",
     "text": [
      "Requirement already satisfied: opencv-python in /Users/diwakargupta/miniconda3/envs/cvpipe/lib/python3.8/site-packages (4.6.0.66)\n",
      "Requirement already satisfied: numpy>=1.14.5 in /Users/diwakargupta/miniconda3/envs/cvpipe/lib/python3.8/site-packages (from opencv-python) (1.23.5)\n"
     ]
    }
   ],
   "source": [
    "!pip install opencv-python"
   ]
  },
  {
   "cell_type": "markdown",
   "id": "0d90d25f",
   "metadata": {},
   "source": [
    "### Live Camera Feed"
   ]
  },
  {
   "cell_type": "code",
   "execution_count": 3,
   "id": "7e5d10d0",
   "metadata": {},
   "outputs": [],
   "source": [
    "# Import\n",
    "import cv2\n",
    "\n",
    "# Access camera\n",
    "cap = cv2.VideoCapture(0)\n",
    "\n",
    "# Read/Show frame's from camera\n",
    "while True:\n",
    "    _, frame = cap.read()\n",
    "    \n",
    "    cv2.imshow('Live', frame)\n",
    "    if cv2.waitKey(1) == 27: # ESC\n",
    "        break\n",
    "\n",
    "cap.release()"
   ]
  },
  {
   "cell_type": "markdown",
   "id": "e9623512",
   "metadata": {},
   "source": [
    "# Hand Tracking\n",
    "\n",
    "1. https://mediapipe.dev/\n",
    "1. Install Mediapipe\n",
    "2. Load Tracking Model\n",
    "3. Implement Live Tracking"
   ]
  },
  {
   "cell_type": "code",
   "execution_count": 2,
   "id": "8651a645",
   "metadata": {},
   "outputs": [
    {
     "name": "stdout",
     "output_type": "stream",
     "text": [
      "Requirement already satisfied: mediapipe-silicon in /Users/diwakargupta/miniconda3/envs/cvpipe/lib/python3.8/site-packages (0.8.11)\n",
      "Requirement already satisfied: protobuf<4,>=3.11 in /Users/diwakargupta/miniconda3/envs/cvpipe/lib/python3.8/site-packages (from mediapipe-silicon) (3.20.3)\n",
      "Requirement already satisfied: opencv-contrib-python in /Users/diwakargupta/miniconda3/envs/cvpipe/lib/python3.8/site-packages (from mediapipe-silicon) (4.6.0.66)\n",
      "Requirement already satisfied: absl-py in /Users/diwakargupta/miniconda3/envs/cvpipe/lib/python3.8/site-packages (from mediapipe-silicon) (1.3.0)\n",
      "Requirement already satisfied: matplotlib in /Users/diwakargupta/miniconda3/envs/cvpipe/lib/python3.8/site-packages (from mediapipe-silicon) (3.6.2)\n",
      "Requirement already satisfied: numpy in /Users/diwakargupta/miniconda3/envs/cvpipe/lib/python3.8/site-packages (from mediapipe-silicon) (1.23.5)\n",
      "Requirement already satisfied: attrs>=19.1.0 in /Users/diwakargupta/miniconda3/envs/cvpipe/lib/python3.8/site-packages (from mediapipe-silicon) (22.1.0)\n",
      "Requirement already satisfied: pillow>=6.2.0 in /Users/diwakargupta/miniconda3/envs/cvpipe/lib/python3.8/site-packages (from matplotlib->mediapipe-silicon) (9.3.0)\n",
      "Requirement already satisfied: contourpy>=1.0.1 in /Users/diwakargupta/miniconda3/envs/cvpipe/lib/python3.8/site-packages (from matplotlib->mediapipe-silicon) (1.0.6)\n",
      "Requirement already satisfied: fonttools>=4.22.0 in /Users/diwakargupta/miniconda3/envs/cvpipe/lib/python3.8/site-packages (from matplotlib->mediapipe-silicon) (4.38.0)\n",
      "Requirement already satisfied: packaging>=20.0 in /Users/diwakargupta/miniconda3/envs/cvpipe/lib/python3.8/site-packages (from matplotlib->mediapipe-silicon) (21.3)\n",
      "Requirement already satisfied: cycler>=0.10 in /Users/diwakargupta/miniconda3/envs/cvpipe/lib/python3.8/site-packages (from matplotlib->mediapipe-silicon) (0.11.0)\n",
      "Requirement already satisfied: python-dateutil>=2.7 in /Users/diwakargupta/miniconda3/envs/cvpipe/lib/python3.8/site-packages (from matplotlib->mediapipe-silicon) (2.8.2)\n",
      "Requirement already satisfied: kiwisolver>=1.0.1 in /Users/diwakargupta/miniconda3/envs/cvpipe/lib/python3.8/site-packages (from matplotlib->mediapipe-silicon) (1.4.4)\n",
      "Requirement already satisfied: pyparsing>=2.2.1 in /Users/diwakargupta/miniconda3/envs/cvpipe/lib/python3.8/site-packages (from matplotlib->mediapipe-silicon) (3.0.9)\n",
      "Requirement already satisfied: six>=1.5 in /Users/diwakargupta/miniconda3/envs/cvpipe/lib/python3.8/site-packages (from python-dateutil>=2.7->matplotlib->mediapipe-silicon) (1.16.0)\n"
     ]
    }
   ],
   "source": [
    "# !pip install mediapipe\n",
    "\n",
    "# For M1 Chip\n",
    "!pip install mediapipe-silicon"
   ]
  },
  {
   "cell_type": "markdown",
   "id": "ddd12f24",
   "metadata": {},
   "source": [
    "### Import & Load Model"
   ]
  },
  {
   "cell_type": "code",
   "execution_count": 1,
   "id": "4bbf7f05",
   "metadata": {},
   "outputs": [
    {
     "name": "stderr",
     "output_type": "stream",
     "text": [
      "objc[18404]: Class CaptureDelegate is implemented in both /Users/diwakargupta/miniconda3/envs/cvpipe/lib/python3.8/site-packages/mediapipe/.dylibs/libopencv_videoio.3.4.16.dylib (0x104dc8860) and /Users/diwakargupta/miniconda3/envs/cvpipe/lib/python3.8/site-packages/cv2/cv2.abi3.so (0x16645e480). One of the two will be used. Which one is undefined.\n",
      "objc[18404]: Class CVWindow is implemented in both /Users/diwakargupta/miniconda3/envs/cvpipe/lib/python3.8/site-packages/mediapipe/.dylibs/libopencv_highgui.3.4.16.dylib (0x103dd8a68) and /Users/diwakargupta/miniconda3/envs/cvpipe/lib/python3.8/site-packages/cv2/cv2.abi3.so (0x16645e4d0). One of the two will be used. Which one is undefined.\n",
      "objc[18404]: Class CVView is implemented in both /Users/diwakargupta/miniconda3/envs/cvpipe/lib/python3.8/site-packages/mediapipe/.dylibs/libopencv_highgui.3.4.16.dylib (0x103dd8a90) and /Users/diwakargupta/miniconda3/envs/cvpipe/lib/python3.8/site-packages/cv2/cv2.abi3.so (0x16645e4f8). One of the two will be used. Which one is undefined.\n",
      "objc[18404]: Class CVSlider is implemented in both /Users/diwakargupta/miniconda3/envs/cvpipe/lib/python3.8/site-packages/mediapipe/.dylibs/libopencv_highgui.3.4.16.dylib (0x103dd8ab8) and /Users/diwakargupta/miniconda3/envs/cvpipe/lib/python3.8/site-packages/cv2/cv2.abi3.so (0x16645e520). One of the two will be used. Which one is undefined.\n",
      "INFO: Created TensorFlow Lite XNNPACK delegate for CPU.\n"
     ]
    }
   ],
   "source": [
    "import mediapipe as mp\n",
    "\n",
    "# Load Model\n",
    "hands = mp.solutions.hands\n",
    "hand_landmark = hands.Hands(max_num_hands=1)"
   ]
  },
  {
   "cell_type": "code",
   "execution_count": 4,
   "id": "bda19a51",
   "metadata": {},
   "outputs": [
    {
     "data": {
      "text/plain": [
       "-1"
      ]
     },
     "execution_count": 4,
     "metadata": {},
     "output_type": "execute_result"
    }
   ],
   "source": [
    "draw = mp.solutions.drawing_utils\n",
    "\n",
    "cap = cv2.VideoCapture(0)\n",
    "\n",
    "while True:\n",
    "    _, frame = cap.read()\n",
    "    frame = cv2.flip(frame, 1)\n",
    "    \n",
    "    rgb = cv2.cvtColor(frame, cv2.COLOR_BGR2RGB)\n",
    "    op = hand_landmark.process(rgb)\n",
    "    \n",
    "    if op.multi_hand_landmarks:\n",
    "        # Draw hand landmarks\n",
    "        for all_landmarks in op.multi_hand_landmarks:\n",
    "            draw.draw_landmarks(frame, all_landmarks, hands.HAND_CONNECTIONS) # Explain parameters\n",
    "    \n",
    "    cv2.imshow('Live', frame)\n",
    "    \n",
    "    if cv2.waitKey(10) == 27:\n",
    "        break\n",
    "  \n",
    "cap.release()\n",
    "cv2.waitKey(1)"
   ]
  },
  {
   "cell_type": "markdown",
   "id": "8a372f14",
   "metadata": {},
   "source": [
    "### Hand and Face Tracking"
   ]
  },
  {
   "cell_type": "code",
   "execution_count": 13,
   "id": "b6989ad1",
   "metadata": {},
   "outputs": [
    {
     "data": {
      "text/plain": [
       "-1"
      ]
     },
     "execution_count": 13,
     "metadata": {},
     "output_type": "execute_result"
    }
   ],
   "source": [
    "mp_face_mesh = mp.solutions.face_mesh\n",
    "face_mesh = mp_face_mesh.FaceMesh(\n",
    "    max_num_faces=1,\n",
    "    refine_landmarks=True,\n",
    "    min_detection_confidence=0.5)\n",
    "\n",
    "\n",
    "cap = cv2.VideoCapture(0)\n",
    "\n",
    "while True:\n",
    "    _, frame = cap.read()\n",
    "    frame = cv2.flip(frame, 1) # 0 vertically x-axis, 1 horizontally y-axis\n",
    "    \n",
    "    rgb = cv2.cvtColor(frame, cv2.COLOR_BGR2RGB)\n",
    "    op = hand_landmark.process(rgb)\n",
    "    results = face_mesh.process(rgb)\n",
    "    \n",
    "    if op.multi_hand_landmarks:\n",
    "        all_landmarks = next(iter(op.multi_hand_landmarks))\n",
    "        draw.draw_landmarks(frame, all_landmarks, hands.HAND_CONNECTIONS)\n",
    "        \n",
    "    if results.multi_face_landmarks:\n",
    "        for i in results.multi_face_landmarks:\n",
    "            draw.draw_landmarks(frame, i, mp_face_mesh.FACEMESH_IRISES)\n",
    "    \n",
    "    cv2.imshow('Live', frame)\n",
    "    \n",
    "    if cv2.waitKey(10) == 27:\n",
    "        break\n",
    "  \n",
    "cap.release()\n",
    "cv2.destroyAllWindows()\n",
    "cv2.waitKey(1)"
   ]
  },
  {
   "cell_type": "markdown",
   "id": "508fd60b",
   "metadata": {},
   "source": [
    "# Draw\n",
    "\n",
    "1. Location of index finger\n",
    "2. Draw Line"
   ]
  },
  {
   "cell_type": "code",
   "execution_count": 5,
   "id": "85fcf05d",
   "metadata": {},
   "outputs": [],
   "source": [
    "# COPY / PASTE\n",
    "\n",
    "# Camera frame resolution\n",
    "frame_shape = (720, 1280, 3)"
   ]
  },
  {
   "cell_type": "markdown",
   "id": "c796e742",
   "metadata": {},
   "source": [
    "## Index Finger Location"
   ]
  },
  {
   "cell_type": "markdown",
   "id": "fc152205",
   "metadata": {},
   "source": [
    "Finger indexes https://google.github.io/mediapipe/solutions/hands"
   ]
  },
  {
   "cell_type": "code",
   "execution_count": null,
   "id": "172970b4",
   "metadata": {},
   "outputs": [],
   "source": [
    "cap = cv2.VideoCapture(0)\n",
    "\n",
    "while True:\n",
    "    _, frame = cap.read()\n",
    "    frame = cv2.flip(frame, 1)\n",
    "    \n",
    "    rgb = cv2.cvtColor(frame, cv2.COLOR_BGR2RGB)\n",
    "    op = hand_landmark.process(rgb)\n",
    "    \n",
    "    if op.multi_hand_landmarks:\n",
    "        for all_landmarks in op.multi_hand_landmarks:\n",
    "            draw.draw_landmarks(frame, all_landmarks, hands.HAND_CONNECTIONS)\n",
    "\n",
    "            # index finger location\n",
    "            x = all_landmarks.landmark[8].x * frame_shape[1]\n",
    "            y = all_landmarks.landmark[8].y * frame_shape[0]\n",
    "            x, y = int(x), int(y)\n",
    "    \n",
    "    cv2.imshow('Live', frame)\n",
    "    \n",
    "    if cv2.waitKey(1) == 27:\n",
    "        break\n",
    "  \n",
    "cap.release()\n",
    "cv2.waitKey(1)"
   ]
  },
  {
   "cell_type": "markdown",
   "id": "849492ae",
   "metadata": {},
   "source": [
    "## Draw Line"
   ]
  },
  {
   "cell_type": "code",
   "execution_count": 6,
   "id": "4b1a13d8",
   "metadata": {},
   "outputs": [
    {
     "data": {
      "text/plain": [
       "-1"
      ]
     },
     "execution_count": 6,
     "metadata": {},
     "output_type": "execute_result"
    }
   ],
   "source": [
    "import numpy as np\n",
    "\n",
    "mask = np.zeros(frame_shape, dtype='uint8')\n",
    "colour = (125, 100, 140)\n",
    "thickness = 4\n",
    "\n",
    "cap = cv2.VideoCapture(0)\n",
    "prevxy = None\n",
    "\n",
    "while True:\n",
    "    _, frame = cap.read()\n",
    "    frame = cv2.flip(frame, 1)\n",
    "    \n",
    "    rgb = cv2.cvtColor(frame, cv2.COLOR_BGR2RGB)\n",
    "    op = hand_landmark.process(rgb)\n",
    "    \n",
    "    if op.multi_hand_landmarks:\n",
    "        for all_landmarks in op.multi_hand_landmarks:\n",
    "            draw.draw_landmarks(frame, all_landmarks, hands.HAND_CONNECTIONS)\n",
    "\n",
    "            # index finger location\n",
    "            x = all_landmarks.landmark[8].x * frame_shape[1]\n",
    "            y = all_landmarks.landmark[8].y * frame_shape[0]\n",
    "            x, y = int(x), int(y)\n",
    "            \n",
    "            # Connect previous and current index finger locations\n",
    "            if prevxy!=None:\n",
    "                cv2.line(mask, prevxy, (x, y), colour, thickness)\n",
    "            prevxy = (x, y)\n",
    "    \n",
    "    # Merge Frame and Mask\n",
    "    frame = np.where(mask, mask, frame)\n",
    "    \n",
    "    cv2.imshow('Live', frame)\n",
    "    if cv2.waitKey(1) == 27:\n",
    "        break\n",
    "  \n",
    "cap.release()\n",
    "cv2.waitKey(1)"
   ]
  },
  {
   "cell_type": "markdown",
   "id": "3a019d69",
   "metadata": {},
   "source": [
    "# Tool Bar"
   ]
  },
  {
   "cell_type": "code",
   "execution_count": 7,
   "id": "1f842ea6",
   "metadata": {},
   "outputs": [
    {
     "name": "stdout",
     "output_type": "stream",
     "text": [
      "(50, 250, 3)\n"
     ]
    }
   ],
   "source": [
    "# Read toolbar image\n",
    "\n",
    "tools = cv2.imread(\"tool.png\")\n",
    "tools = tools.astype('uint8')\n",
    "print(tools.shape)"
   ]
  },
  {
   "cell_type": "code",
   "execution_count": 8,
   "id": "0f91987b",
   "metadata": {},
   "outputs": [],
   "source": [
    "frame_shape = (720, 1280, 3)\n",
    "\n",
    "# Row and Column for toolbar\n",
    "midCol = 1280 // 2\n",
    "max_row = 50\n",
    "min_col = midCol-125\n",
    "max_col = midCol+125"
   ]
  },
  {
   "cell_type": "code",
   "execution_count": 10,
   "id": "c307e78e",
   "metadata": {},
   "outputs": [
    {
     "data": {
      "text/plain": [
       "-1"
      ]
     },
     "execution_count": 10,
     "metadata": {},
     "output_type": "execute_result"
    }
   ],
   "source": [
    "cap = cv2.VideoCapture(0)\n",
    "\n",
    "while True:\n",
    "    _, frame = cap.read()\n",
    "    frame = cv2.flip(frame, 1) \n",
    "    \n",
    "    frame[0:max_row, min_col:max_col] = tools\n",
    "    \n",
    "    cv2.imshow('Live', frame)\n",
    "    \n",
    "    if cv2.waitKey(10) == 27:\n",
    "        break\n",
    "  \n",
    "cap.release()\n",
    "cv2.waitKey(1)"
   ]
  },
  {
   "cell_type": "markdown",
   "id": "0c59e9dd",
   "metadata": {},
   "source": [
    "# Rectangle\n",
    "\n",
    "Drow only when index finger and middle finger are close enough"
   ]
  },
  {
   "cell_type": "code",
   "execution_count": 11,
   "id": "236c6328",
   "metadata": {},
   "outputs": [],
   "source": [
    "# This are some utility functions\n",
    "\n",
    "# Check if distance between 2 points is less than 60 pixels\n",
    "def get_is_clicked(point1, point2):\n",
    "    (x1, y1) = point1\n",
    "    (x2, y2) = point2\n",
    "    \n",
    "    dis = (x1-x2)**2 + (y1-y2)**2\n",
    "    dis = np.sqrt(dis)\n",
    "    if dis<60:\n",
    "        return True\n",
    "    else:\n",
    "        return False\n",
    "\n",
    "# Return tool based on column location\n",
    "def get_Tool(point, prev_tool):\n",
    "    (x, y) = point\n",
    "    \n",
    "    if x>min_col and x<max_col and y<max_row:\n",
    "        if x < min_col:\n",
    "            return\n",
    "        elif x < 50 + min_col:\n",
    "            curr_tool = \"line\"\n",
    "        elif x<100 + min_col:\n",
    "            curr_tool = \"rectangle\"\n",
    "        elif x < 150 + min_col:\n",
    "            curr_tool =\"draw\"\n",
    "        elif x<200 + min_col:\n",
    "            curr_tool = \"circle\"\n",
    "        else:\n",
    "            curr_tool = \"erase\"\n",
    "        return curr_tool\n",
    "    else:\n",
    "        return prev_tool"
   ]
  },
  {
   "cell_type": "code",
   "execution_count": 13,
   "id": "4530f115",
   "metadata": {},
   "outputs": [
    {
     "data": {
      "text/plain": [
       "-1"
      ]
     },
     "execution_count": 13,
     "metadata": {},
     "output_type": "execute_result"
    }
   ],
   "source": [
    "import numpy as np\n",
    "\n",
    "mask = np.zeros(frame_shape, dtype='uint8')\n",
    "colour = (125, 100, 140)\n",
    "thickness = 4\n",
    "curr_tool = 'draw'\n",
    "start_point = None\n",
    "\n",
    "cap = cv2.VideoCapture(0)\n",
    "prevxy = None\n",
    "\n",
    "while True:\n",
    "    _, frame = cap.read()\n",
    "    frame = cv2.flip(frame, 1)\n",
    "    \n",
    "    # Preprocess Image\n",
    "    rgb = cv2.cvtColor(frame, cv2.COLOR_BGR2RGB)\n",
    "    op = hand_landmark.process(rgb)\n",
    "    \n",
    "    # Check if hand is in frame\n",
    "    if op.multi_hand_landmarks:\n",
    "        for all_landmarks in op.multi_hand_landmarks:\n",
    "            draw.draw_landmarks(frame, all_landmarks, hands.HAND_CONNECTIONS)\n",
    "\n",
    "            # index finger location\n",
    "            x = all_landmarks.landmark[8].x * frame_shape[1]\n",
    "            y = all_landmarks.landmark[8].y * frame_shape[0]\n",
    "            x, y = int(x), int(y)\n",
    "            \n",
    "            # Middle finger location\n",
    "            middle_x = all_landmarks.landmark[12].x * frame_shape[1]\n",
    "            middle_y = all_landmarks.landmark[12].y * frame_shape[0]\n",
    "            middle_x, middle_y = int(middle_x), int(middle_y)\n",
    "            \n",
    "            is_clicked = get_is_clicked((x, y), (middle_x, middle_y))\n",
    "            curr_tool = get_Tool((x, y), curr_tool)\n",
    "\n",
    "            # Select tool and draw for that\n",
    "            if curr_tool == 'draw':\n",
    "                # Connect previous and current index finger locations\n",
    "                if is_clicked and prevxy!=None:\n",
    "                    cv2.line(mask, prevxy, (x, y), colour, thickness)\n",
    "            elif curr_tool == 'rectangle':\n",
    "                if is_clicked and start_point==None:\n",
    "                    start_point = (x, y)\n",
    "                \n",
    "                elif is_clicked:\n",
    "                    cv2.rectangle(frame, start_point, (x, y), colour, thickness)\n",
    "                \n",
    "                elif is_clicked==False and start_point:\n",
    "                    cv2.rectangle(mask, start_point, (x, y), colour, thickness)\n",
    "                    start_point=None\n",
    "            prevxy = (x, y)    \n",
    "    \n",
    "    # Merge Frame and Mask\n",
    "    frame = np.where(mask, mask, frame)\n",
    "    \n",
    "    frame[0:max_row, min_col:max_col] = tools\n",
    "    cv2.imshow('Live', frame)\n",
    "    if cv2.waitKey(1) == 27:\n",
    "        break\n",
    "  \n",
    "cap.release()\n",
    "cv2.waitKey(1)"
   ]
  },
  {
   "cell_type": "markdown",
   "id": "88d9d3d1",
   "metadata": {},
   "source": [
    "# Eraser & Circle"
   ]
  },
  {
   "cell_type": "code",
   "execution_count": 16,
   "id": "75b0dadb",
   "metadata": {},
   "outputs": [
    {
     "data": {
      "text/plain": [
       "-1"
      ]
     },
     "execution_count": 16,
     "metadata": {},
     "output_type": "execute_result"
    }
   ],
   "source": [
    "import numpy as np\n",
    "\n",
    "mask = np.zeros(frame_shape, dtype='uint8')\n",
    "colour = (125, 100, 140)\n",
    "thickness = 4\n",
    "curr_tool = 'draw'\n",
    "start_point = None\n",
    "\n",
    "cap = cv2.VideoCapture(0)\n",
    "prevxy = None\n",
    "\n",
    "while True:\n",
    "    _, frame = cap.read()\n",
    "    frame = cv2.flip(frame, 1)\n",
    "    \n",
    "    # Preprocess Image\n",
    "    rgb = cv2.cvtColor(frame, cv2.COLOR_BGR2RGB)\n",
    "    op = hand_landmark.process(rgb)\n",
    "    \n",
    "    # Check if hand is in frame\n",
    "    if op.multi_hand_landmarks:\n",
    "        for all_landmarks in op.multi_hand_landmarks:\n",
    "            draw.draw_landmarks(frame, all_landmarks, hands.HAND_CONNECTIONS)\n",
    "\n",
    "            # index finger location\n",
    "            x = all_landmarks.landmark[8].x * frame_shape[1]\n",
    "            y = all_landmarks.landmark[8].y * frame_shape[0]\n",
    "            x, y = int(x), int(y)\n",
    "            \n",
    "            # Middle finger location\n",
    "            middle_x = all_landmarks.landmark[12].x * frame_shape[1]\n",
    "            middle_y = all_landmarks.landmark[12].y * frame_shape[0]\n",
    "            middle_x, middle_y = int(middle_x), int(middle_y)\n",
    "            \n",
    "            is_clicked = get_is_clicked((x, y), (middle_x, middle_y))\n",
    "            curr_tool = get_Tool((x, y), curr_tool)\n",
    "\n",
    "            # Select tool and draw for that\n",
    "            if curr_tool == 'draw':\n",
    "                # Connect previous and current index finger locations\n",
    "                if is_clicked and prevxy!=None:\n",
    "                    cv2.line(mask, prevxy, (x, y), colour, thickness)\n",
    "            \n",
    "            elif curr_tool == 'rectangle':\n",
    "                if is_clicked and start_point==None:\n",
    "                    # Init start_point\n",
    "                    start_point = (x, y)\n",
    "                elif is_clicked:\n",
    "                    # Draw temp rectange\n",
    "                    cv2.rectangle(frame, start_point, (x, y), colour, thickness)\n",
    "                elif is_clicked==False and start_point:\n",
    "                    # draw perm. rectangle and reset start_point\n",
    "                    cv2.rectangle(mask, start_point, (x, y), colour, thickness)\n",
    "                    start_point=None\n",
    "            \n",
    "            elif curr_tool=='circle':\n",
    "                if is_clicked and start_point==None:\n",
    "                    start_point = (x, y)\n",
    "                \n",
    "                if start_point:\n",
    "                    rad = int(((start_point[0]-x)**2 + (start_point[1]-y)**2)**0.5)\n",
    "                if is_clicked:\n",
    "                    cv2.circle(frame, start_point, rad, colour, thickness)\n",
    "                \n",
    "                if is_clicked==False and start_point:\n",
    "                    cv2.circle(mask, start_point, rad, colour, thickness)\n",
    "                \n",
    "                    start_point=None\n",
    "            \n",
    "            elif curr_tool == \"erase\":\n",
    "                cv2.circle(frame, (x, y), 30, (0,0,0), -1) # -1 means fill\n",
    "                if is_clicked:\n",
    "                    cv2.circle(mask, (x, y), 30, 0, -1)\n",
    "            prevxy = (x, y)    \n",
    "    \n",
    "    # Merge Frame and Mask\n",
    "    frame = np.where(mask, mask, frame)\n",
    "    \n",
    "    frame[0:max_row, min_col:max_col] = tools\n",
    "    cv2.imshow('Live', frame)\n",
    "    if cv2.waitKey(1) == 27:\n",
    "        break\n",
    "  \n",
    "cap.release()\n",
    "cv2.waitKey(1)"
   ]
  }
 ],
 "metadata": {
  "kernelspec": {
   "display_name": "Python 3 (ipykernel)",
   "language": "python",
   "name": "python3"
  },
  "language_info": {
   "codemirror_mode": {
    "name": "ipython",
    "version": 3
   },
   "file_extension": ".py",
   "mimetype": "text/x-python",
   "name": "python",
   "nbconvert_exporter": "python",
   "pygments_lexer": "ipython3",
   "version": "3.8.15"
  }
 },
 "nbformat": 4,
 "nbformat_minor": 5
}
