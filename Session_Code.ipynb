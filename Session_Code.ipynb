{
 "cells": [
  {
   "cell_type": "markdown",
   "id": "56ddf68e",
   "metadata": {},
   "source": [
    "# Live feed from camera\n",
    "\n",
    "1. https://opencv.org/ \n",
    "1. Install Opencv\n",
    "1. Live Camera Feed"
   ]
  },
  {
   "cell_type": "code",
   "execution_count": 2,
   "id": "c18d392f",
   "metadata": {},
   "outputs": [
    {
     "name": "stdout",
     "output_type": "stream",
     "text": [
      "Collecting opencv-python\n",
      "  Using cached opencv_python-4.6.0.66-cp37-abi3-macosx_11_0_arm64.whl (30.0 MB)\n",
      "Requirement already satisfied: numpy>=1.14.5 in /Users/diwakargupta/miniconda3/lib/python3.8/site-packages (from opencv-python) (1.23.3)\n",
      "Installing collected packages: opencv-python\n",
      "Successfully installed opencv-python-4.6.0.66\n"
     ]
    }
   ],
   "source": [
    "!pip install opencv-python"
   ]
  },
  {
   "cell_type": "markdown",
   "id": "6f55028f",
   "metadata": {},
   "source": [
    "### Live Camera Feed"
   ]
  },
  {
   "cell_type": "code",
   "execution_count": 3,
   "id": "cd096c1d",
   "metadata": {},
   "outputs": [],
   "source": [
    "# Import\n",
    "import cv2\n",
    "\n",
    "# Access camera\n",
    "cap = cv2.VideoCapture(0)\n",
    "\n",
    "# Read/Show frame's from camera\n",
    "while True:\n",
    "    _, frame = cap.read()\n",
    "    \n",
    "    cv2.imshow('Live', frame)\n",
    "    if cv2.waitKey(1) == 27: # ESC\n",
    "        break\n",
    "\n",
    "cap.release()"
   ]
  },
  {
   "cell_type": "markdown",
   "id": "e8b66114",
   "metadata": {},
   "source": [
    "# Hand Tracking\n",
    "\n",
    "1. https://mediapipe.dev/\n",
    "1. Install Mediapipe\n",
    "2. Load Tracking Model\n",
    "3. Implement Live Tracking"
   ]
  },
  {
   "cell_type": "code",
   "execution_count": 5,
   "id": "b4900e69",
   "metadata": {},
   "outputs": [
    {
     "name": "stdout",
     "output_type": "stream",
     "text": [
      "Requirement already satisfied: mediapipe-silicon in /Users/diwakargupta/miniconda3/envs/cvpipe/lib/python3.8/site-packages (0.8.11)\n",
      "Requirement already satisfied: absl-py in /Users/diwakargupta/miniconda3/envs/cvpipe/lib/python3.8/site-packages (from mediapipe-silicon) (1.3.0)\n",
      "Requirement already satisfied: matplotlib in /Users/diwakargupta/miniconda3/envs/cvpipe/lib/python3.8/site-packages (from mediapipe-silicon) (3.6.2)\n",
      "Requirement already satisfied: opencv-contrib-python in /Users/diwakargupta/miniconda3/envs/cvpipe/lib/python3.8/site-packages (from mediapipe-silicon) (4.6.0.66)\n",
      "Requirement already satisfied: numpy in /Users/diwakargupta/miniconda3/envs/cvpipe/lib/python3.8/site-packages (from mediapipe-silicon) (1.23.5)\n",
      "Requirement already satisfied: protobuf<4,>=3.11 in /Users/diwakargupta/miniconda3/envs/cvpipe/lib/python3.8/site-packages (from mediapipe-silicon) (3.20.3)\n",
      "Requirement already satisfied: attrs>=19.1.0 in /Users/diwakargupta/miniconda3/envs/cvpipe/lib/python3.8/site-packages (from mediapipe-silicon) (22.1.0)\n",
      "Requirement already satisfied: fonttools>=4.22.0 in /Users/diwakargupta/miniconda3/envs/cvpipe/lib/python3.8/site-packages (from matplotlib->mediapipe-silicon) (4.38.0)\n",
      "Requirement already satisfied: cycler>=0.10 in /Users/diwakargupta/miniconda3/envs/cvpipe/lib/python3.8/site-packages (from matplotlib->mediapipe-silicon) (0.11.0)\n",
      "Requirement already satisfied: contourpy>=1.0.1 in /Users/diwakargupta/miniconda3/envs/cvpipe/lib/python3.8/site-packages (from matplotlib->mediapipe-silicon) (1.0.6)\n",
      "Requirement already satisfied: pyparsing>=2.2.1 in /Users/diwakargupta/miniconda3/envs/cvpipe/lib/python3.8/site-packages (from matplotlib->mediapipe-silicon) (3.0.9)\n",
      "Requirement already satisfied: pillow>=6.2.0 in /Users/diwakargupta/miniconda3/envs/cvpipe/lib/python3.8/site-packages (from matplotlib->mediapipe-silicon) (9.3.0)\n",
      "Requirement already satisfied: kiwisolver>=1.0.1 in /Users/diwakargupta/miniconda3/envs/cvpipe/lib/python3.8/site-packages (from matplotlib->mediapipe-silicon) (1.4.4)\n",
      "Requirement already satisfied: packaging>=20.0 in /Users/diwakargupta/miniconda3/envs/cvpipe/lib/python3.8/site-packages (from matplotlib->mediapipe-silicon) (21.3)\n",
      "Requirement already satisfied: python-dateutil>=2.7 in /Users/diwakargupta/miniconda3/envs/cvpipe/lib/python3.8/site-packages (from matplotlib->mediapipe-silicon) (2.8.2)\n",
      "Requirement already satisfied: six>=1.5 in /Users/diwakargupta/miniconda3/envs/cvpipe/lib/python3.8/site-packages (from python-dateutil>=2.7->matplotlib->mediapipe-silicon) (1.16.0)\n"
     ]
    }
   ],
   "source": [
    "# !pip install mediapipe\n",
    "\n",
    "# For M1 Chip\n",
    "!pip install mediapipe-silicon"
   ]
  },
  {
   "cell_type": "code",
   "execution_count": 2,
   "id": "b238f220",
   "metadata": {
    "scrolled": true
   },
   "outputs": [
    {
     "name": "stderr",
     "output_type": "stream",
     "text": [
      "objc[18410]: Class CaptureDelegate is implemented in both /Users/diwakargupta/miniconda3/envs/cvpipe/lib/python3.8/site-packages/cv2/cv2.abi3.so (0x144ece480) and /Users/diwakargupta/miniconda3/envs/cvpipe/lib/python3.8/site-packages/mediapipe/.dylibs/libopencv_videoio.3.4.16.dylib (0x1365b0860). One of the two will be used. Which one is undefined.\n",
      "objc[18410]: Class CVWindow is implemented in both /Users/diwakargupta/miniconda3/envs/cvpipe/lib/python3.8/site-packages/cv2/cv2.abi3.so (0x144ece4d0) and /Users/diwakargupta/miniconda3/envs/cvpipe/lib/python3.8/site-packages/mediapipe/.dylibs/libopencv_highgui.3.4.16.dylib (0x1165e0a68). One of the two will be used. Which one is undefined.\n",
      "objc[18410]: Class CVView is implemented in both /Users/diwakargupta/miniconda3/envs/cvpipe/lib/python3.8/site-packages/cv2/cv2.abi3.so (0x144ece4f8) and /Users/diwakargupta/miniconda3/envs/cvpipe/lib/python3.8/site-packages/mediapipe/.dylibs/libopencv_highgui.3.4.16.dylib (0x1165e0a90). One of the two will be used. Which one is undefined.\n",
      "objc[18410]: Class CVSlider is implemented in both /Users/diwakargupta/miniconda3/envs/cvpipe/lib/python3.8/site-packages/cv2/cv2.abi3.so (0x144ece520) and /Users/diwakargupta/miniconda3/envs/cvpipe/lib/python3.8/site-packages/mediapipe/.dylibs/libopencv_highgui.3.4.16.dylib (0x1165e0ab8). One of the two will be used. Which one is undefined.\n",
      "INFO: Created TensorFlow Lite XNNPACK delegate for CPU.\n"
     ]
    }
   ],
   "source": [
    "import mediapipe as mp\n",
    "\n",
    "# Load Model\n",
    "hands = mp.solutions.hands\n",
    "hand_landmark = hands.Hands(max_num_hands=1)"
   ]
  },
  {
   "cell_type": "code",
   "execution_count": 8,
   "id": "53dff750",
   "metadata": {},
   "outputs": [],
   "source": [
    "# Import\n",
    "import cv2\n",
    "\n",
    "# Access camera\n",
    "cap = cv2.VideoCapture(0)\n",
    "draw = mp.solutions.drawing_utils\n",
    "\n",
    "# Read/Show frame's from camera\n",
    "while True:\n",
    "    _, frame = cap.read() # BGR -> RGB\n",
    "    \n",
    "    rgb = cv2.cvtColor(frame, cv2.COLOR_BGR2RGB)\n",
    "    op = hand_landmark.process(rgb)\n",
    "    \n",
    "    if op.multi_hand_landmarks:\n",
    "        for all_landmarks in op.multi_hand_landmarks: # \n",
    "            draw.draw_landmarks(frame, all_landmarks, hands.HAND_CONNECTIONS)\n",
    "    \n",
    "    cv2.imshow('Live', frame)\n",
    "    if cv2.waitKey(1) == 27: # ESC\n",
    "        break\n",
    "\n",
    "cap.release()"
   ]
  },
  {
   "cell_type": "markdown",
   "id": "8d4fa5c1",
   "metadata": {},
   "source": [
    "### Hand and Face Tracking"
   ]
  },
  {
   "cell_type": "code",
   "execution_count": 10,
   "id": "c1884387",
   "metadata": {},
   "outputs": [
    {
     "data": {
      "text/plain": [
       "-1"
      ]
     },
     "execution_count": 10,
     "metadata": {},
     "output_type": "execute_result"
    }
   ],
   "source": [
    "mp_face_mesh = mp.solutions.face_mesh\n",
    "face_mesh = mp_face_mesh.FaceMesh(\n",
    "    max_num_faces=1,\n",
    "    refine_landmarks=True,\n",
    "    min_detection_confidence=0.5)\n",
    "\n",
    "\n",
    "cap = cv2.VideoCapture(0)\n",
    "\n",
    "while True:\n",
    "    _, frame = cap.read()\n",
    "    frame = cv2.flip(frame, 1) # 0 vertically x-axis, 1 horizontally y-axis\n",
    "    \n",
    "    rgb = cv2.cvtColor(frame, cv2.COLOR_BGR2RGB)\n",
    "    op = hand_landmark.process(rgb)\n",
    "    results = face_mesh.process(rgb)\n",
    "    \n",
    "    if op.multi_hand_landmarks:\n",
    "        all_landmarks = next(iter(op.multi_hand_landmarks))\n",
    "        draw.draw_landmarks(frame, all_landmarks, hands.HAND_CONNECTIONS)\n",
    "        \n",
    "    if results.multi_face_landmarks:\n",
    "        for i in results.multi_face_landmarks:\n",
    "            draw.draw_landmarks(frame, i, mp_face_mesh.FACEMESH_IRISES)\n",
    "    \n",
    "    cv2.imshow('Live', frame)\n",
    "    \n",
    "    if cv2.waitKey(10) == 27:\n",
    "        break\n",
    "  \n",
    "cap.release()\n",
    "cv2.destroyAllWindows()\n",
    "cv2.waitKey(1)"
   ]
  },
  {
   "cell_type": "markdown",
   "id": "a351bdcb",
   "metadata": {},
   "source": [
    "# Draw\n",
    "\n",
    "1. Locate index finger\n",
    "2. draw line"
   ]
  },
  {
   "cell_type": "code",
   "execution_count": 3,
   "id": "3b2421c7",
   "metadata": {},
   "outputs": [],
   "source": [
    "# Camera frame resolution\n",
    "frame_shape = (720, 1280, 3)"
   ]
  },
  {
   "cell_type": "code",
   "execution_count": 16,
   "id": "49284dd6",
   "metadata": {},
   "outputs": [],
   "source": [
    "# Import\n",
    "import cv2\n",
    "import numpy as np\n",
    "\n",
    "prevxy = None\n",
    "mask = np.zeros(frame_shape, dtype='uint8') # to premanently draw\n",
    "colour = (123, 34, 90)\n",
    "thickness = 4\n",
    "\n",
    "# Access camera\n",
    "cap = cv2.VideoCapture(0)\n",
    "draw = mp.solutions.drawing_utils\n",
    "\n",
    "# Read/Show frame's from camera\n",
    "while True:\n",
    "    _, frame = cap.read() # BGR -> RGB\n",
    "    \n",
    "    rgb = cv2.cvtColor(frame, cv2.COLOR_BGR2RGB)\n",
    "    op = hand_landmark.process(rgb)\n",
    "    \n",
    "    if op.multi_hand_landmarks:\n",
    "        for all_landmarks in op.multi_hand_landmarks: # \n",
    "            draw.draw_landmarks(frame, all_landmarks, hands.HAND_CONNECTIONS)\n",
    "            \n",
    "            x = int(all_landmarks.landmark[8].x*frame_shape[1])\n",
    "            y = int(all_landmarks.landmark[8].y*frame_shape[0])\n",
    "            \n",
    "            if prevxy != None:\n",
    "                # draw stuf\n",
    "                cv2.line(mask, prevxy, (x, y), colour, thickness)\n",
    "            prevxy = (x, y)\n",
    "            \n",
    "    # Merge Frame and Mask\n",
    "    frame = np.where(mask, mask, frame)\n",
    "    \n",
    "    cv2.imshow('Live', frame)\n",
    "    if cv2.waitKey(1) == 27: # ESC\n",
    "        break\n",
    "\n",
    "cap.release()"
   ]
  },
  {
   "cell_type": "markdown",
   "id": "b47fbaf6",
   "metadata": {},
   "source": [
    "# Eraser"
   ]
  },
  {
   "cell_type": "code",
   "execution_count": 18,
   "id": "69f17a58",
   "metadata": {},
   "outputs": [],
   "source": [
    "# Import\n",
    "import cv2\n",
    "import numpy as np\n",
    "\n",
    "prevxy = None\n",
    "# mask = np.zeros(frame_shape, dtype='uint8') # to premanently draw, 0 values are invisible\n",
    "colour = (123, 34, 90)\n",
    "thickness = 4\n",
    "\n",
    "# Access camera\n",
    "cap = cv2.VideoCapture(0)\n",
    "draw = mp.solutions.drawing_utils\n",
    "\n",
    "# Read/Show frame's from camera\n",
    "while True:\n",
    "    _, frame = cap.read() # BGR -> RGB\n",
    "    \n",
    "    rgb = cv2.cvtColor(frame, cv2.COLOR_BGR2RGB)\n",
    "    op = hand_landmark.process(rgb)\n",
    "    \n",
    "    if op.multi_hand_landmarks:\n",
    "        for all_landmarks in op.multi_hand_landmarks: # \n",
    "            draw.draw_landmarks(frame, all_landmarks, hands.HAND_CONNECTIONS)\n",
    "            \n",
    "            # Index Finger Location\n",
    "            x = int(all_landmarks.landmark[8].x*frame_shape[1])\n",
    "            y = int(all_landmarks.landmark[8].y*frame_shape[0])\n",
    "            \n",
    "            cv2.circle(frame, (x, y), 30, (0,0,0), -1) # -1 means fill\n",
    "            cv2.circle(mask, (x, y), 30, (0,0,0), -1) # -1 means fill\n",
    "            \n",
    "    # Merge Frame and Mask\n",
    "    frame = np.where(mask, mask, frame)\n",
    "    \n",
    "    cv2.imshow('Live', frame)\n",
    "    if cv2.waitKey(1) == 27: # ESC\n",
    "        break\n",
    "\n",
    "cap.release()"
   ]
  },
  {
   "cell_type": "markdown",
   "id": "326f966b",
   "metadata": {},
   "source": [
    "# Tool Bar"
   ]
  },
  {
   "cell_type": "code",
   "execution_count": 1,
   "id": "2f24489f",
   "metadata": {},
   "outputs": [
    {
     "ename": "NameError",
     "evalue": "name 'cv2' is not defined",
     "output_type": "error",
     "traceback": [
      "\u001b[0;31m---------------------------------------------------------------------------\u001b[0m",
      "\u001b[0;31mNameError\u001b[0m                                 Traceback (most recent call last)",
      "Cell \u001b[0;32mIn [1], line 3\u001b[0m\n\u001b[1;32m      1\u001b[0m \u001b[38;5;66;03m# Read toolbar image\u001b[39;00m\n\u001b[0;32m----> 3\u001b[0m tools \u001b[38;5;241m=\u001b[39m \u001b[43mcv2\u001b[49m\u001b[38;5;241m.\u001b[39mimread(\u001b[38;5;124m\"\u001b[39m\u001b[38;5;124mtool.png\u001b[39m\u001b[38;5;124m\"\u001b[39m)\n\u001b[1;32m      4\u001b[0m tools \u001b[38;5;241m=\u001b[39m tools\u001b[38;5;241m.\u001b[39mastype(\u001b[38;5;124m'\u001b[39m\u001b[38;5;124muint8\u001b[39m\u001b[38;5;124m'\u001b[39m)\n\u001b[1;32m      5\u001b[0m \u001b[38;5;28mprint\u001b[39m(tools\u001b[38;5;241m.\u001b[39mshape)\n",
      "\u001b[0;31mNameError\u001b[0m: name 'cv2' is not defined"
     ]
    }
   ],
   "source": [
    "# Read toolbar image\n",
    "\n",
    "tools = cv2.imread(\"tool.png\")\n",
    "tools = tools.astype('uint8')\n",
    "print(tools.shape)"
   ]
  },
  {
   "cell_type": "code",
   "execution_count": null,
   "id": "77105701",
   "metadata": {},
   "outputs": [],
   "source": []
  }
 ],
 "metadata": {
  "kernelspec": {
   "display_name": "Python 3 (ipykernel)",
   "language": "python",
   "name": "python3"
  },
  "language_info": {
   "codemirror_mode": {
    "name": "ipython",
    "version": 3
   },
   "file_extension": ".py",
   "mimetype": "text/x-python",
   "name": "python",
   "nbconvert_exporter": "python",
   "pygments_lexer": "ipython3",
   "version": "3.8.15"
  }
 },
 "nbformat": 4,
 "nbformat_minor": 5
}
